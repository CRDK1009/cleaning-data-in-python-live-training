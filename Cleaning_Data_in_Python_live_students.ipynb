{
  "nbformat": 4,
  "nbformat_minor": 0,
  "metadata": {
    "colab": {
      "name": "Cleaning Data in Python live_students.ipynb",
      "provenance": []
    },
    "kernelspec": {
      "name": "python3",
      "display_name": "Python 3"
    }
  },
  "cells": [
    {
      "cell_type": "markdown",
      "metadata": {
        "id": "6Ijg5wUCTQYG",
        "colab_type": "text"
      },
      "source": [
        "<p align=\"center\">\n",
        "<img src=\"https://cdn.datacamp.com/main-app/assets/brand/datacamp-horizontal-rgb-b641f95b7bdd7560b554c761a0b4910f9619907dd823c0e41244ed72078723bf.svg\" alt = \"DataCamp icon\" width=\"50%\">\n",
        "</p>\n",
        "<br><br>\n",
        "\n",
        "## **Cleaning Data in Python live training**\n",
        "\n",
        "\n",
        "Welcome to this live, hands-on training where you will learn how to effectively diagnose and treat missing data in Python.\n",
        "\n",
        "The majority of data science work often revolves around pre-processing data, and making sure it's ready for analysis. In this session, we will be covering how transform our raw data into accurate insights. In this notebook, you will learn:\n",
        "\n",
        "* Import data into `pandas`, and use simple functions to diagnose problems in our data.\n",
        "* Visualize missing and out of range data using `missingno` and `seaborn`.\n",
        "* Apply a range of data cleaning tasks that will ensure the delivery of accurate insights.\n",
        "\n",
        "## **The Dataset**\n",
        "\n",
        "The dataset to be used in this webinar is a CSV file named `airbnb.csv`, which contains data on airbnb listings in the state of New York. It contains the following columns:\n",
        "\n",
        "- `listing_id`: The unique identifier for a listing\n",
        "- `description`: The description used on the listing\n",
        "- `host_id`: Unique identifier for a host\n",
        "- `host_name`: Name of host\n",
        "- `neighbourhood_full`: Name of boroughs and neighbourhoods\n",
        "- `coordinates`: Coordinates of listing _(latitude, longitude)_\n",
        "- `Listing added`: Date of added listing\n",
        "- `room_type`: Type of room \n",
        "- `rating`: Rating from 0 to 5.\n",
        "- `price`: Price per night for listing\n",
        "- `number_of_reviews`: Amount of reviews received \n",
        "- `last_review`: Date of last review\n",
        "- `reviews_per_month`: Number of reviews per month\n",
        "- `availability_365`: Number of days available per year\n",
        "- `Number of stays`: Total number of stays thus far\n"
      ]
    },
    {
      "cell_type": "markdown",
      "metadata": {
        "id": "BMYfcKeDY85K",
        "colab_type": "text"
      },
      "source": [
        "## **Getting started**"
      ]
    },
    {
      "cell_type": "code",
      "metadata": {
        "id": "EMQfyC7GUNhT",
        "colab_type": "code",
        "colab": {}
      },
      "source": [
        "# Import libraries\n",
        "import pandas as pd\n",
        "import matplotlib.pyplot as plt\n",
        "import numpy as np\n",
        "import seaborn as sns\n",
        "import datetime as dt\n",
        "import missingno as msno\n",
        "import datetime as dt"
      ],
      "execution_count": 0,
      "outputs": []
    },
    {
      "cell_type": "code",
      "metadata": {
        "id": "l8t_EwRNZPLB",
        "colab_type": "code",
        "colab": {}
      },
      "source": [
        "# Read in the dataset\n",
        "airbnb = pd.read_csv('https://github.com/adelnehme/python-for-spreadsheet-users-webinar/blob/master/datasets/airbnb.csv?raw=true', index_col = 'Unnamed: 0')"
      ],
      "execution_count": 0,
      "outputs": []
    },
    {
      "cell_type": "markdown",
      "metadata": {
        "id": "1ui1uvtyZwfQ",
        "colab_type": "text"
      },
      "source": [
        "## **Diagnosing data cleaning problems using simple `pandas` and visualizations** "
      ]
    },
    {
      "cell_type": "markdown",
      "metadata": {
        "id": "t3fgtos4Z6Xa",
        "colab_type": "text"
      },
      "source": [
        "Some important and common methods needed to get a better understanding of DataFrames and diagnose potential data problems are the following: \n",
        "\n",
        "- `.head()` prints the header of a DataFrame\n",
        "- `.dtypes` prints datatypes of all columns in a DataFrame\n",
        "- `.info()` provides a bird's eye view of column data types and missing values in a DataFrame\n",
        "- `.describe()` returns a distribution of numeric columns in your DataFrame\n",
        "- `.isna().sum()` allows us to break down the number of missing values per column in our DataFrame\n",
        "- `.unique()` finds the number of unique values in a DataFrame column\n",
        "\n",
        "<br>\n",
        "\n",
        "- `sns.displot()` plots the distribution of one column in your DataFrame."
      ]
    },
    {
      "cell_type": "code",
      "metadata": {
        "id": "x3w1WbkFZ-ig",
        "colab_type": "code",
        "colab": {}
      },
      "source": [
        "# Print the header of the DataFrame\n"
      ],
      "execution_count": 0,
      "outputs": []
    },
    {
      "cell_type": "code",
      "metadata": {
        "id": "SiWS3EiPakp2",
        "colab_type": "code",
        "colab": {}
      },
      "source": [
        "# Print data types of DataFrame\n"
      ],
      "execution_count": 0,
      "outputs": []
    },
    {
      "cell_type": "code",
      "metadata": {
        "id": "KoT5LMdSiW1H",
        "colab_type": "code",
        "colab": {}
      },
      "source": [
        "# Print info of DataFrame\n"
      ],
      "execution_count": 0,
      "outputs": []
    },
    {
      "cell_type": "code",
      "metadata": {
        "id": "dvsinK9zexdv",
        "colab_type": "code",
        "colab": {}
      },
      "source": [
        "# Print number of missing values\n"
      ],
      "execution_count": 0,
      "outputs": []
    },
    {
      "cell_type": "markdown",
      "metadata": {
        "id": "BLtjk34CgDdF",
        "colab_type": "text"
      },
      "source": [
        "There are a variety of ways of dealing with missing data that is dependent on type of missingness, as well as the business assumptions behind our data - our options could be:\n",
        "\n",
        "- Dropping missing data (if the data dropped does not impact or skew our data)\n",
        "- Setting to missing and impute with statistical measures (median, mean, mode ...)\n",
        "- Imputing with more complex algorithmic/machine learning based approaches\n",
        "- Impute based on business assumptions of our data"
      ]
    },
    {
      "cell_type": "code",
      "metadata": {
        "id": "ydyKeLnKgAHq",
        "colab_type": "code",
        "colab": {}
      },
      "source": [
        "# Print description of DataFrame\n"
      ],
      "execution_count": 0,
      "outputs": []
    },
    {
      "cell_type": "code",
      "metadata": {
        "id": "VVJat5xZjJLX",
        "colab_type": "code",
        "colab": {}
      },
      "source": [
        "# Visualize the distribution of the rating column\n",
        "\n",
        "\n"
      ],
      "execution_count": 0,
      "outputs": []
    },
    {
      "cell_type": "code",
      "metadata": {
        "id": "mvJGrqxRjihF",
        "colab_type": "code",
        "colab": {}
      },
      "source": [
        "# Find number of unique values in room_type column\n"
      ],
      "execution_count": 0,
      "outputs": []
    },
    {
      "cell_type": "code",
      "metadata": {
        "id": "tZ0SBerlm2hS",
        "colab_type": "code",
        "colab": {}
      },
      "source": [
        "# How many values of different room_types do we have?\n"
      ],
      "execution_count": 0,
      "outputs": []
    },
    {
      "cell_type": "markdown",
      "metadata": {
        "id": "WqwmfLp9lKjU",
        "colab_type": "text"
      },
      "source": [
        "## **Our to do list:**\n",
        "\n",
        "_Data type problems:_\n",
        "\n",
        "- **Task 1**: Split `coordinates` into 2 columns and convert them to `float`\n",
        "- **Task 2**: Remove `$` from `price` and convert it to `float`\n",
        "- **Task 3**: Convert `listing_added` and `last_review` to `datetime`\n",
        "\n",
        "<br>\n",
        "\n",
        "_Text/categorical data problems:_\n",
        "\n",
        "- **Task 4**: We need to collapse `room_type` into correct categories\n",
        "- **Task 5**: Divide `neighbourhood_full` into 2 columns and making sure they are clean\n",
        "\n",
        "<br>\n",
        "\n",
        "_Data range problems:_\n",
        "\n",
        "- **Task 6**: Make sure we set the correct maximum for `rating` column out of range values\n",
        "\n",
        "<br>\n",
        "\n",
        "_Dealing with missing data:_\n",
        "\n",
        "- **Task 7**: Understand the type of missingness, and deal with the missing data in most of the remaining columns. \n",
        "\n",
        "<br>\n",
        "\n",
        "_Is that all though?_\n",
        "\n",
        "- We need to investigate if we duplicates in our data\n",
        "- We need to make sure that data makes sense by applying some sanity checks on our DataFrame "
      ]
    },
    {
      "cell_type": "markdown",
      "metadata": {
        "id": "8jp5m7QmnCsM",
        "colab_type": "text"
      },
      "source": [
        "## **Cleaning data** "
      ]
    },
    {
      "cell_type": "markdown",
      "metadata": {
        "id": "7rrd0kYCnIYE",
        "colab_type": "text"
      },
      "source": [
        "### Data type problems"
      ]
    },
    {
      "cell_type": "code",
      "metadata": {
        "id": "NawK3x5Tk7HF",
        "colab_type": "code",
        "colab": {}
      },
      "source": [
        "# Reminder of the DataFrame\n"
      ],
      "execution_count": 0,
      "outputs": []
    },
    {
      "cell_type": "markdown",
      "metadata": {
        "id": "3Ev1mCwXniDv",
        "colab_type": "text"
      },
      "source": [
        "##### **Task 1:** Replace `coordinates` with `latitude` and `longitude` columns"
      ]
    },
    {
      "cell_type": "markdown",
      "metadata": {
        "id": "ijAlYOgglvzt",
        "colab_type": "text"
      },
      "source": [
        "To perform this task, we will use the following methods:\n",
        "\n",
        "- `.str.replace(\"\",\"\")` replaces one string in each row of a column with another\n",
        "- `.str.split(\"\")` takes in a string and lets you split a column into two based on that string\n",
        "- `.astype()` lets you convert a column from one type to another"
      ]
    },
    {
      "cell_type": "code",
      "metadata": {
        "id": "UpIxvD_onOgt",
        "colab_type": "code",
        "colab": {}
      },
      "source": [
        "# Remove \"(\" and \")\" from coordinates\n",
        "\n",
        "\n",
        "# Print the header of the column\n"
      ],
      "execution_count": 0,
      "outputs": []
    },
    {
      "cell_type": "code",
      "metadata": {
        "id": "nvEKmdRun2Md",
        "colab_type": "code",
        "colab": {}
      },
      "source": [
        "# Split column into two\n",
        "\n"
      ],
      "execution_count": 0,
      "outputs": []
    },
    {
      "cell_type": "code",
      "metadata": {
        "id": "LezCKPzfn4yf",
        "colab_type": "code",
        "colab": {}
      },
      "source": [
        "# Assign correct columns to latitude and longitude columns in airbnb\n",
        "\n",
        "\n",
        "# Print the header and confirm new column creation\n"
      ],
      "execution_count": 0,
      "outputs": []
    },
    {
      "cell_type": "code",
      "metadata": {
        "id": "toTHDWjFosXs",
        "colab_type": "code",
        "colab": {}
      },
      "source": [
        "# Print out dtypes again\n"
      ],
      "execution_count": 0,
      "outputs": []
    },
    {
      "cell_type": "code",
      "metadata": {
        "id": "8zDpaIqDoeNl",
        "colab_type": "code",
        "colab": {}
      },
      "source": [
        "# Convert latitude and longitude to float\n",
        "\n",
        "\n",
        "# Print dtypes again\n"
      ],
      "execution_count": 0,
      "outputs": []
    },
    {
      "cell_type": "code",
      "metadata": {
        "id": "aKZGhJQRo8mp",
        "colab_type": "code",
        "colab": {}
      },
      "source": [
        "# Drop coordinates column\n"
      ],
      "execution_count": 0,
      "outputs": []
    },
    {
      "cell_type": "markdown",
      "metadata": {
        "id": "bkgGPHpdpMEW",
        "colab_type": "text"
      },
      "source": [
        "##### **Task 2:** Remove `$` from `price` and convert it to `float`"
      ]
    },
    {
      "cell_type": "markdown",
      "metadata": {
        "id": "9jkKFojOmJy5",
        "colab_type": "text"
      },
      "source": [
        "To perform this task, we will be using the following methods:\n",
        "\n",
        "- `.str.strip()` which removes a specified string from each row in a column\n",
        "- `.astype()`"
      ]
    },
    {
      "cell_type": "code",
      "metadata": {
        "id": "Ya76gXP1qLtn",
        "colab_type": "code",
        "colab": {}
      },
      "source": [
        "# Calculate mean of price without conversion\n"
      ],
      "execution_count": 0,
      "outputs": []
    },
    {
      "cell_type": "code",
      "metadata": {
        "id": "gHIB5d-1pdIO",
        "colab_type": "code",
        "colab": {}
      },
      "source": [
        "# Remove $ from price before conversion to float\n",
        "\n",
        "# Print header to make sure change was done\n"
      ],
      "execution_count": 0,
      "outputs": []
    },
    {
      "cell_type": "code",
      "metadata": {
        "id": "Gz4Q2xoGp4AJ",
        "colab_type": "code",
        "colab": {}
      },
      "source": [
        "# Convert price to float\n",
        "\n",
        "# Calculate mean of price after conversion\n"
      ],
      "execution_count": 0,
      "outputs": []
    },
    {
      "cell_type": "code",
      "metadata": {
        "id": "mSLxGradqVix",
        "colab_type": "code",
        "colab": {}
      },
      "source": [
        "# Visualize distribution of prices\n",
        "\n"
      ],
      "execution_count": 0,
      "outputs": []
    },
    {
      "cell_type": "markdown",
      "metadata": {
        "id": "HZKW5mWvqg2Z",
        "colab_type": "text"
      },
      "source": [
        "##### **Task 3:** Convert `listing_added` and `last_review` columns to `datetime`"
      ]
    },
    {
      "cell_type": "markdown",
      "metadata": {
        "id": "9ijLZ4zwmWNS",
        "colab_type": "text"
      },
      "source": [
        "To perform this task, we will use the following functions:\n",
        "\n",
        "- `pd.to_datetime(format = \"\")`\n",
        "  - `format` takes in the desired date format `\"%Y-%m-%d\"`"
      ]
    },
    {
      "cell_type": "code",
      "metadata": {
        "id": "cggG5Bucqc6T",
        "colab_type": "code",
        "colab": {}
      },
      "source": [
        "# Print header of two columns\n"
      ],
      "execution_count": 0,
      "outputs": []
    },
    {
      "cell_type": "code",
      "metadata": {
        "id": "9lVyr6-Gs19z",
        "colab_type": "code",
        "colab": {}
      },
      "source": [
        "# Convert both columns to datetime\n",
        "\n"
      ],
      "execution_count": 0,
      "outputs": []
    },
    {
      "cell_type": "code",
      "metadata": {
        "id": "jlVDTYUvtG1f",
        "colab_type": "code",
        "colab": {}
      },
      "source": [
        "# Print header and datatypes of both columns again\n",
        "\n"
      ],
      "execution_count": 0,
      "outputs": []
    },
    {
      "cell_type": "markdown",
      "metadata": {
        "id": "SvMs1y6gucs6",
        "colab_type": "text"
      },
      "source": [
        "### Text and categorical data problems"
      ]
    },
    {
      "cell_type": "markdown",
      "metadata": {
        "id": "Z19JboeNukIS",
        "colab_type": "text"
      },
      "source": [
        "##### **Task 4:** We need to collapse `room_type` into correct categories"
      ]
    },
    {
      "cell_type": "markdown",
      "metadata": {
        "id": "85lW-8k_msaY",
        "colab_type": "text"
      },
      "source": [
        "To perform this task, we will be using the following methods:\n",
        "\n",
        "- `.str.lower()` to lowercase all rows in a string column\n",
        "- `.str.strip()` to remove all white spaces of each row in a string column\n",
        "- `.replace()` to replace values in a column with another"
      ]
    },
    {
      "cell_type": "code",
      "metadata": {
        "id": "hPJHPWB4tOlP",
        "colab_type": "code",
        "colab": {}
      },
      "source": [
        "# Print unique values of `room_type`\n"
      ],
      "execution_count": 0,
      "outputs": []
    },
    {
      "cell_type": "code",
      "metadata": {
        "id": "HwnSnaPEvncy",
        "colab_type": "code",
        "colab": {}
      },
      "source": [
        "# Deal with capitalized values\n",
        "\n"
      ],
      "execution_count": 0,
      "outputs": []
    },
    {
      "cell_type": "code",
      "metadata": {
        "id": "u47Ws-GtvvrC",
        "colab_type": "code",
        "colab": {}
      },
      "source": [
        "# Deal with trailing spaces\n",
        "\n"
      ],
      "execution_count": 0,
      "outputs": []
    },
    {
      "cell_type": "code",
      "metadata": {
        "id": "tYyyzZ2pwMtx",
        "colab_type": "code",
        "colab": {}
      },
      "source": [
        "# Replace values to 'Shared room', 'Entire place', 'Private room' and 'Hotel room' (if applicable).\n",
        "\n",
        "\n",
        "\n",
        "\n",
        "\n",
        "\n",
        "# Replace values and collapse data\n",
        "\n"
      ],
      "execution_count": 0,
      "outputs": []
    },
    {
      "cell_type": "markdown",
      "metadata": {
        "id": "VA_2KMIkxjhL",
        "colab_type": "text"
      },
      "source": [
        "##### **Task 5:** Divide `neighbourhood_full` into 2 columns and making sure they are clean"
      ]
    },
    {
      "cell_type": "code",
      "metadata": {
        "id": "Nc3u9b57xKOu",
        "colab_type": "code",
        "colab": {}
      },
      "source": [
        "# Print header of column\n"
      ],
      "execution_count": 0,
      "outputs": []
    },
    {
      "cell_type": "code",
      "metadata": {
        "id": "88O9T3WYxreo",
        "colab_type": "code",
        "colab": {}
      },
      "source": [
        "# Split neighbourhood_full\n",
        "\n"
      ],
      "execution_count": 0,
      "outputs": []
    },
    {
      "cell_type": "code",
      "metadata": {
        "id": "mmKhwDxkypDJ",
        "colab_type": "code",
        "colab": {}
      },
      "source": [
        "# Create borough and neighbourhood columns\n",
        "\n",
        "\n",
        "# Print header of columns\n"
      ],
      "execution_count": 0,
      "outputs": []
    },
    {
      "cell_type": "code",
      "metadata": {
        "id": "SnflzqkwzCnt",
        "colab_type": "code",
        "colab": {}
      },
      "source": [
        "# Drop neighbourhood_full column\n"
      ],
      "execution_count": 0,
      "outputs": []
    },
    {
      "cell_type": "code",
      "metadata": {
        "id": "NJqrhMlNzNxk",
        "colab_type": "code",
        "colab": {}
      },
      "source": [
        "# Print out unique values of borough and neighbourhood\n",
        "\n"
      ],
      "execution_count": 0,
      "outputs": []
    },
    {
      "cell_type": "code",
      "metadata": {
        "id": "sIC_fuLRz-en",
        "colab_type": "code",
        "colab": {}
      },
      "source": [
        "# Strip white space from neighbourhood column\n",
        "\n",
        "# Print unique values again\n"
      ],
      "execution_count": 0,
      "outputs": []
    },
    {
      "cell_type": "markdown",
      "metadata": {
        "id": "iFUQqbRp1lil",
        "colab_type": "text"
      },
      "source": [
        "##### **Task 6:** Make sure we set the correct maximum for `rating` column out of range values"
      ]
    },
    {
      "cell_type": "code",
      "metadata": {
        "id": "Bacl6XSU1zyD",
        "colab_type": "code",
        "colab": {}
      },
      "source": [
        "# Visualize the rating column again\n",
        "\n"
      ],
      "execution_count": 0,
      "outputs": []
    },
    {
      "cell_type": "code",
      "metadata": {
        "id": "toWXIeUx2C0o",
        "colab_type": "code",
        "colab": {}
      },
      "source": [
        "# Isolate rows of rating > 5.0\n"
      ],
      "execution_count": 0,
      "outputs": []
    },
    {
      "cell_type": "code",
      "metadata": {
        "id": "O6GzdjlP2JZN",
        "colab_type": "code",
        "colab": {}
      },
      "source": [
        "# Drop these rows and make sure we have effected changes\n"
      ],
      "execution_count": 0,
      "outputs": []
    },
    {
      "cell_type": "code",
      "metadata": {
        "id": "sjlhjthu3NIP",
        "colab_type": "code",
        "colab": {}
      },
      "source": [
        "# Visualize the rating column again\n",
        "\n"
      ],
      "execution_count": 0,
      "outputs": []
    },
    {
      "cell_type": "code",
      "metadata": {
        "id": "ll1KvVJX4Pd3",
        "colab_type": "code",
        "colab": {}
      },
      "source": [
        "# Get the maximum\n"
      ],
      "execution_count": 0,
      "outputs": []
    },
    {
      "cell_type": "markdown",
      "metadata": {
        "id": "32vk2-Vn5l3Z",
        "colab_type": "text"
      },
      "source": [
        "### Dealing with missing data"
      ]
    },
    {
      "cell_type": "markdown",
      "metadata": {
        "id": "b2K5RQJLlXvf",
        "colab_type": "text"
      },
      "source": [
        "The `missingno` (imported as `msno`) package is great for visualizing missing data - we will be using:\n",
        "\n",
        "- `msno.matrix()` visualizes a missingness matrix\n",
        "- `msno.bar()` visualizes a missngness barplot\n",
        "- `plt.show()` to show the plot"
      ]
    },
    {
      "cell_type": "code",
      "metadata": {
        "id": "spvUQz2K4U4x",
        "colab_type": "code",
        "colab": {}
      },
      "source": [
        "# Visualize the missingness \n",
        "\n"
      ],
      "execution_count": 0,
      "outputs": []
    },
    {
      "cell_type": "code",
      "metadata": {
        "id": "G9QLtSbx7pCW",
        "colab_type": "code",
        "colab": {}
      },
      "source": [
        "# Visualize the missingness on sorted values\n",
        "\n"
      ],
      "execution_count": 0,
      "outputs": []
    },
    {
      "cell_type": "code",
      "metadata": {
        "id": "W5vfZi03RwwY",
        "colab_type": "code",
        "colab": {}
      },
      "source": [
        "# Missingness barplot\n"
      ],
      "execution_count": 0,
      "outputs": []
    },
    {
      "cell_type": "markdown",
      "metadata": {
        "id": "27XSigJyg8Di",
        "colab_type": "text"
      },
      "source": [
        "**Treating the** `rating`, `number_of_stays`, `5_stars`, `reviews_per_month` **columns**"
      ]
    },
    {
      "cell_type": "code",
      "metadata": {
        "id": "pKuLIznfSv3H",
        "colab_type": "code",
        "colab": {}
      },
      "source": [
        "# Understand DataFrame with missing values in rating, number_of_stays, 5_stars, reviews_per_month\n"
      ],
      "execution_count": 0,
      "outputs": []
    },
    {
      "cell_type": "code",
      "metadata": {
        "id": "ij5BmX2gTnrW",
        "colab_type": "code",
        "colab": {}
      },
      "source": [
        "# Understand DataFrame with missing values in rating, number_of_stays, 5_stars, reviews_per_month\n"
      ],
      "execution_count": 0,
      "outputs": []
    },
    {
      "cell_type": "code",
      "metadata": {
        "id": "tuRNdMvungIq",
        "colab_type": "code",
        "colab": {}
      },
      "source": [
        "# Impute missing data\n",
        "\n",
        "\n",
        "\n",
        "\n",
        "# Create is_rated column\n",
        "\n"
      ],
      "execution_count": 0,
      "outputs": []
    },
    {
      "cell_type": "markdown",
      "metadata": {
        "id": "lsPP28Xzg9_z",
        "colab_type": "text"
      },
      "source": [
        "**Treating the** `price` **column**"
      ]
    },
    {
      "cell_type": "code",
      "metadata": {
        "id": "lLJJG-SmYLh7",
        "colab_type": "code",
        "colab": {}
      },
      "source": [
        "# Investigate DataFrame with missing values in price\n"
      ],
      "execution_count": 0,
      "outputs": []
    },
    {
      "cell_type": "code",
      "metadata": {
        "id": "dluvKIkXr3yV",
        "colab_type": "code",
        "colab": {}
      },
      "source": [
        "# Investigate DataFrame with missing values in price\n"
      ],
      "execution_count": 0,
      "outputs": []
    },
    {
      "cell_type": "markdown",
      "metadata": {
        "id": "qxAJtTZ4hEtv",
        "colab_type": "text"
      },
      "source": [
        "From a common sense perspective, the most predictive factor for a room's price is the `room_type` column, so let's visualize how price varies by room type with `sns.boxplot()` which displays the following information:\n",
        "\n",
        "\n",
        "<p align=\"center\">\n",
        "<img src=\"https://github.com/adelnehme/cleaning-data-in-python-live-training/blob/master/boxplot.png?raw=true\" alt = \"DataCamp icon\" width=\"80%\">\n",
        "</p>\n",
        "\n",
        "\n"
      ]
    },
    {
      "cell_type": "code",
      "metadata": {
        "id": "CdHj-mMDtgRE",
        "colab_type": "code",
        "colab": {}
      },
      "source": [
        "# Visualize relationship between price and room_type\n",
        "\n",
        "\n",
        "\n",
        "\n"
      ],
      "execution_count": 0,
      "outputs": []
    },
    {
      "cell_type": "code",
      "metadata": {
        "id": "GzAmpxWzsqRb",
        "colab_type": "code",
        "colab": {}
      },
      "source": [
        "# Get median price per room_type\n"
      ],
      "execution_count": 0,
      "outputs": []
    },
    {
      "cell_type": "code",
      "metadata": {
        "id": "AmaKYXPRypq7",
        "colab_type": "code",
        "colab": {}
      },
      "source": [
        "# Impute price based on conditions\n",
        "\n",
        "\n"
      ],
      "execution_count": 0,
      "outputs": []
    },
    {
      "cell_type": "code",
      "metadata": {
        "id": "bTJafaijzDkc",
        "colab_type": "code",
        "colab": {}
      },
      "source": [
        "# Confirm price has been imputed\n"
      ],
      "execution_count": 0,
      "outputs": []
    },
    {
      "cell_type": "markdown",
      "metadata": {
        "id": "VnxYYabO0Bdt",
        "colab_type": "text"
      },
      "source": [
        "### What's still to be done?"
      ]
    },
    {
      "cell_type": "markdown",
      "metadata": {
        "id": "q2cyXCxk0VP3",
        "colab_type": "text"
      },
      "source": [
        "Albeit we've done a significant amount of data cleaning tasks, there are still a couple of problems we have yet to diagnose. When cleaning data, we need to consider:\n",
        "\n",
        "- Values that do not make any sense *(for example: are there values of `last_review` that older than `listing_added`? Are there listings in the future?*)\n",
        "- Presence of duplicates values - and how to deal with them?"
      ]
    },
    {
      "cell_type": "markdown",
      "metadata": {
        "id": "KGpasg3L6Je4",
        "colab_type": "text"
      },
      "source": [
        "##### **Task 8:** Do we have consistent date data?"
      ]
    },
    {
      "cell_type": "code",
      "metadata": {
        "id": "jT_hz8Dj0EhB",
        "colab_type": "code",
        "colab": {}
      },
      "source": [
        "# Doing some sanity checks on date data\n"
      ],
      "execution_count": 0,
      "outputs": []
    },
    {
      "cell_type": "code",
      "metadata": {
        "id": "pUKi4Dbi27Zb",
        "colab_type": "code",
        "colab": {}
      },
      "source": [
        "# Are there reviews in the future?\n"
      ],
      "execution_count": 0,
      "outputs": []
    },
    {
      "cell_type": "code",
      "metadata": {
        "id": "dZO_yoOZ2-jf",
        "colab_type": "code",
        "colab": {}
      },
      "source": [
        "# Are there listings in the future?\n"
      ],
      "execution_count": 0,
      "outputs": []
    },
    {
      "cell_type": "code",
      "metadata": {
        "id": "3xJUlJFm3cmc",
        "colab_type": "code",
        "colab": {}
      },
      "source": [
        "# Drop these rows since they are only 4 rows\n"
      ],
      "execution_count": 0,
      "outputs": []
    },
    {
      "cell_type": "code",
      "metadata": {
        "id": "BvqMxmux4e_Q",
        "colab_type": "code",
        "colab": {}
      },
      "source": [
        "# Are there any listings with listing_added > last_review\n",
        "\n"
      ],
      "execution_count": 0,
      "outputs": []
    },
    {
      "cell_type": "code",
      "metadata": {
        "id": "cCziTT7T4xbT",
        "colab_type": "code",
        "colab": {}
      },
      "source": [
        "# Drop these rows since they are only 2 rows\n"
      ],
      "execution_count": 0,
      "outputs": []
    },
    {
      "cell_type": "markdown",
      "metadata": {
        "id": "JD1ChXPF6BR7",
        "colab_type": "text"
      },
      "source": [
        "##### **Task 9:** Let's deal with duplicate data"
      ]
    },
    {
      "cell_type": "markdown",
      "metadata": {
        "id": "hz9oQHyt8KmO",
        "colab_type": "text"
      },
      "source": [
        "\n",
        "There are two notable types of duplicate data:\n",
        "\n",
        "- Identical duplicate data across all columns\n",
        "- Identical duplicate data cross most or some columns\n",
        "\n",
        "To diagnose, and deal with duplicate data, we will be using the following methods and functions:\n",
        "\n",
        "- `.duplicated(subset = , keep = )`\n",
        "  - `subset` lets us pick one or more columns with duplicate values.\n",
        "  - `keep` returns lets us return all instances of duplicate values.\n",
        "- `.drop_duplicates(subset = , keep = )`\n",
        "  "
      ]
    },
    {
      "cell_type": "code",
      "metadata": {
        "id": "_m3Gdg7x6ATJ",
        "colab_type": "code",
        "colab": {}
      },
      "source": [
        "# Print the header of the DataFrame again\n"
      ],
      "execution_count": 0,
      "outputs": []
    },
    {
      "cell_type": "code",
      "metadata": {
        "id": "EzT8q3SCIW7w",
        "colab_type": "code",
        "colab": {}
      },
      "source": [
        "# Find duplicates\n",
        "\n"
      ],
      "execution_count": 0,
      "outputs": []
    },
    {
      "cell_type": "code",
      "metadata": {
        "id": "pqVxdea4Ik5g",
        "colab_type": "code",
        "colab": {}
      },
      "source": [
        "# Find duplicates\n"
      ],
      "execution_count": 0,
      "outputs": []
    },
    {
      "cell_type": "code",
      "metadata": {
        "id": "uSXEpMFlJCJc",
        "colab_type": "code",
        "colab": {}
      },
      "source": [
        "# Remove identical duplicates\n"
      ],
      "execution_count": 0,
      "outputs": []
    },
    {
      "cell_type": "code",
      "metadata": {
        "id": "nYf1M1cNKIIN",
        "colab_type": "code",
        "colab": {}
      },
      "source": [
        "# Find non-identical duplicates\n"
      ],
      "execution_count": 0,
      "outputs": []
    },
    {
      "cell_type": "code",
      "metadata": {
        "id": "wiN1SBw8Kizr",
        "colab_type": "code",
        "colab": {}
      },
      "source": [
        "# Show all duplicates\n"
      ],
      "execution_count": 0,
      "outputs": []
    },
    {
      "cell_type": "markdown",
      "metadata": {
        "id": "E6_O2EYkcGoF",
        "colab_type": "text"
      },
      "source": [
        "To treat identical duplicates across some columns, we will chain the `.groupby()` and `.agg()` methods where we group by the column used to find duplicates (`listing_id`) and aggregate across statistical measures for `price`, `rating` and `list_added`. The `.agg()` method takes in a dictionary with each column's aggregation method - we will use the following aggregations:\n",
        "\n",
        "- `mean` for `price` and `rating` columns\n",
        "- `max` for `listing_added` column\n",
        "- `first` for all remaining column\n",
        "\n",
        "*A note on dictionary comprehensions:*\n",
        "\n",
        "Dictionaries are useful data structures in Python with the following format\n",
        "`my_dictionary = {key: value}` where a `key` is mapped to a `value` and whose `value` can be returned with `my_dictionary[key]` - dictionary comprehensions allow us to programmatically create dicitonaries using the structure:\n",
        "\n",
        "```\n",
        "{x: x*2 for x in [1,2,3,4,5]} \n",
        "{1:2, 2:4, 3:6, 4:8, 5:10}\n",
        "```"
      ]
    },
    {
      "cell_type": "code",
      "metadata": {
        "id": "v7l82ErIqO1-",
        "colab_type": "code",
        "colab": {}
      },
      "source": [
        "# Get column names from airbnb\n",
        "\n"
      ],
      "execution_count": 0,
      "outputs": []
    },
    {
      "cell_type": "code",
      "metadata": {
        "id": "CxCJ3xPbKmJg",
        "colab_type": "code",
        "colab": {}
      },
      "source": [
        "# Create dictionary comprehension with 'first' as value for all columns not being aggregated\n",
        "\n",
        "\n",
        "\n",
        "\n"
      ],
      "execution_count": 0,
      "outputs": []
    },
    {
      "cell_type": "code",
      "metadata": {
        "id": "jaS5j-KsRUD-",
        "colab_type": "code",
        "colab": {}
      },
      "source": [
        "# Remove non-identical duplicates\n"
      ],
      "execution_count": 0,
      "outputs": []
    },
    {
      "cell_type": "code",
      "metadata": {
        "id": "q93L6waFWpTq",
        "colab_type": "code",
        "colab": {}
      },
      "source": [
        "# Make sure no duplication happened\n"
      ],
      "execution_count": 0,
      "outputs": []
    },
    {
      "cell_type": "code",
      "metadata": {
        "id": "ZmIRBaZgW4q2",
        "colab_type": "code",
        "colab": {}
      },
      "source": [
        "# Print header of DataFrame\n"
      ],
      "execution_count": 0,
      "outputs": []
    },
    {
      "cell_type": "markdown",
      "metadata": {
        "id": "zaF7ZDbzA6P7",
        "colab_type": "text"
      },
      "source": [
        "### Take home question\n",
        "\n",
        "Try to answer the following questions about the dataset:\n",
        "\n",
        "- What is the average price of listings by borough? Visualize your results with a bar plot!\n",
        "- What is the average availability in days of listings by borough? Visualize your results with a bar plot!\n",
        "- What is the median price per room type in each borough? Visualize your results with a bar plot!\n",
        "- Visualize the number of listings over time.\n",
        "\n",
        "**Functions that should/could be used:**\n",
        "- `.groupby()` and `.agg(})`\n",
        "- `sns.barplot(x = , y = , hue = , data = )`\n",
        "- `sns.lineplot(x = , y = , data = )`\n",
        "- `.dt.strftime()` for extracting specific dates from a `datetime` column\n",
        "\n",
        "**Bonus points if:**\n",
        "- You finish more than one question\n",
        "\n",
        "**Submission details:**\n",
        "- Share with us a code snippet with your output on LinkedIn, Twitter or Facebook\n",
        "- Tag us on `@DataCamp` with the hashtag `#datacamplive`\n"
      ]
    }
  ]
}